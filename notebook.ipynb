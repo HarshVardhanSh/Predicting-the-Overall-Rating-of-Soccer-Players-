{
  "cells": [
    {
      "metadata": {
        "_cell_guid": "76031638-803f-4fad-8b06-266f5abd9354",
        "_uuid": "1604d1c81110632e12b4da5219a972462060e973"
      },
      "cell_type": "markdown",
      "source": "# Predicting the Overall Rating of Soccer Players "
    },
    {
      "metadata": {
        "_uuid": "55e21fc30804e5f6488e2e7b479ef89eb3cf93b2"
      },
      "cell_type": "markdown",
      "source": "In this notebook, we will try to predict the overall rating of the Players. We will use the dataset containing the attributes of the Soccer Players. The dataset is maintained in European Soccer Database. \nWe'll use various ML models and find the model which will help us achieve the accuracy over 90 %. \nLets begin."
    },
    {
      "metadata": {
        "_cell_guid": "5ad57f09-a26b-4b6f-a109-f7d0ee66e02c",
        "_uuid": "295f70f5b7c843837acbd874d1a3c9a34bf9ccbf"
      },
      "cell_type": "markdown",
      "source": "## Importing Libraries "
    },
    {
      "metadata": {
        "_cell_guid": "eb2cc195-acae-4770-a820-d18c2af288ff",
        "_uuid": "8cff658c7ca335cd9852f7c34c9199224ac670e2",
        "collapsed": true,
        "trusted": true
      },
      "cell_type": "code",
      "source": "import sqlite3\nimport pandas as pd \nimport matplotlib.pyplot as plt \nimport seaborn as sns \nfrom sklearn.tree import DecisionTreeRegressor\nfrom sklearn.linear_model import LinearRegression\nfrom sklearn.ensemble import RandomForestRegressor \nfrom sklearn.model_selection import cross_val_score",
      "execution_count": 1,
      "outputs": []
    },
    {
      "metadata": {
        "_cell_guid": "b6f05919-1bc8-48d6-9ec7-3ec8254bd281",
        "_uuid": "38dc2bfa3f72ccc702e74a30482cf71853a2a3e2"
      },
      "cell_type": "markdown",
      "source": "## Read Data from the database into Pandas "
    },
    {
      "metadata": {
        "_cell_guid": "3d3d8daf-f440-4d53-bf27-678d48e5a716",
        "_uuid": "5dbd451d505335429334b81ce86744c3454153e1",
        "trusted": true
      },
      "cell_type": "code",
      "source": "conn = sqlite3.connect('../input/database.sqlite')\nsoccer_data = pd.read_sql(\"select * from Player_Attributes\", conn)\nsoccer_data.sample(10)",
      "execution_count": 2,
      "outputs": [
        {
          "data": {
            "text/html": "<div>\n<style>\n    .dataframe thead tr:only-child th {\n        text-align: right;\n    }\n\n    .dataframe thead th {\n        text-align: left;\n    }\n\n    .dataframe tbody tr th {\n        vertical-align: top;\n    }\n</style>\n<table border=\"1\" class=\"dataframe\">\n  <thead>\n    <tr style=\"text-align: right;\">\n      <th></th>\n      <th>id</th>\n      <th>player_fifa_api_id</th>\n      <th>player_api_id</th>\n      <th>date</th>\n      <th>overall_rating</th>\n      <th>potential</th>\n      <th>preferred_foot</th>\n      <th>attacking_work_rate</th>\n      <th>defensive_work_rate</th>\n      <th>crossing</th>\n      <th>...</th>\n      <th>vision</th>\n      <th>penalties</th>\n      <th>marking</th>\n      <th>standing_tackle</th>\n      <th>sliding_tackle</th>\n      <th>gk_diving</th>\n      <th>gk_handling</th>\n      <th>gk_kicking</th>\n      <th>gk_positioning</th>\n      <th>gk_reflexes</th>\n    </tr>\n  </thead>\n  <tbody>\n    <tr>\n      <th>146691</th>\n      <td>146692</td>\n      <td>198212</td>\n      <td>181275</td>\n      <td>2010-08-30 00:00:00</td>\n      <td>52.0</td>\n      <td>68.0</td>\n      <td>right</td>\n      <td>medium</td>\n      <td>medium</td>\n      <td>56.0</td>\n      <td>...</td>\n      <td>48.0</td>\n      <td>61.0</td>\n      <td>49.0</td>\n      <td>52.0</td>\n      <td>38.0</td>\n      <td>14.0</td>\n      <td>5.0</td>\n      <td>5.0</td>\n      <td>5.0</td>\n      <td>14.0</td>\n    </tr>\n    <tr>\n      <th>171957</th>\n      <td>171958</td>\n      <td>53012</td>\n      <td>27313</td>\n      <td>2015-09-21 00:00:00</td>\n      <td>68.0</td>\n      <td>68.0</td>\n      <td>right</td>\n      <td>medium</td>\n      <td>medium</td>\n      <td>13.0</td>\n      <td>...</td>\n      <td>9.0</td>\n      <td>31.0</td>\n      <td>13.0</td>\n      <td>16.0</td>\n      <td>15.0</td>\n      <td>55.0</td>\n      <td>72.0</td>\n      <td>53.0</td>\n      <td>73.0</td>\n      <td>75.0</td>\n    </tr>\n    <tr>\n      <th>174456</th>\n      <td>174457</td>\n      <td>138507</td>\n      <td>37579</td>\n      <td>2011-02-22 00:00:00</td>\n      <td>75.0</td>\n      <td>80.0</td>\n      <td>right</td>\n      <td>medium</td>\n      <td>medium</td>\n      <td>11.0</td>\n      <td>...</td>\n      <td>36.0</td>\n      <td>23.0</td>\n      <td>11.0</td>\n      <td>11.0</td>\n      <td>12.0</td>\n      <td>78.0</td>\n      <td>67.0</td>\n      <td>72.0</td>\n      <td>74.0</td>\n      <td>81.0</td>\n    </tr>\n    <tr>\n      <th>158647</th>\n      <td>158648</td>\n      <td>198373</td>\n      <td>127134</td>\n      <td>2015-09-21 00:00:00</td>\n      <td>61.0</td>\n      <td>68.0</td>\n      <td>right</td>\n      <td>medium</td>\n      <td>high</td>\n      <td>52.0</td>\n      <td>...</td>\n      <td>57.0</td>\n      <td>51.0</td>\n      <td>45.0</td>\n      <td>51.0</td>\n      <td>43.0</td>\n      <td>14.0</td>\n      <td>15.0</td>\n      <td>9.0</td>\n      <td>6.0</td>\n      <td>10.0</td>\n    </tr>\n    <tr>\n      <th>66096</th>\n      <td>66097</td>\n      <td>146475</td>\n      <td>38546</td>\n      <td>2011-08-30 00:00:00</td>\n      <td>65.0</td>\n      <td>65.0</td>\n      <td>right</td>\n      <td>low</td>\n      <td>medium</td>\n      <td>43.0</td>\n      <td>...</td>\n      <td>69.0</td>\n      <td>54.0</td>\n      <td>51.0</td>\n      <td>68.0</td>\n      <td>59.0</td>\n      <td>10.0</td>\n      <td>12.0</td>\n      <td>7.0</td>\n      <td>14.0</td>\n      <td>6.0</td>\n    </tr>\n    <tr>\n      <th>97041</th>\n      <td>97042</td>\n      <td>201949</td>\n      <td>120110</td>\n      <td>2014-02-28 00:00:00</td>\n      <td>69.0</td>\n      <td>70.0</td>\n      <td>right</td>\n      <td>medium</td>\n      <td>medium</td>\n      <td>52.0</td>\n      <td>...</td>\n      <td>54.0</td>\n      <td>62.0</td>\n      <td>24.0</td>\n      <td>23.0</td>\n      <td>20.0</td>\n      <td>12.0</td>\n      <td>10.0</td>\n      <td>7.0</td>\n      <td>11.0</td>\n      <td>13.0</td>\n    </tr>\n    <tr>\n      <th>160515</th>\n      <td>160516</td>\n      <td>189077</td>\n      <td>121093</td>\n      <td>2008-08-30 00:00:00</td>\n      <td>52.0</td>\n      <td>57.0</td>\n      <td>right</td>\n      <td>medium</td>\n      <td>medium</td>\n      <td>31.0</td>\n      <td>...</td>\n      <td>36.0</td>\n      <td>36.0</td>\n      <td>47.0</td>\n      <td>46.0</td>\n      <td>47.0</td>\n      <td>7.0</td>\n      <td>22.0</td>\n      <td>32.0</td>\n      <td>22.0</td>\n      <td>22.0</td>\n    </tr>\n    <tr>\n      <th>55018</th>\n      <td>55019</td>\n      <td>182105</td>\n      <td>171981</td>\n      <td>2014-02-28 00:00:00</td>\n      <td>77.0</td>\n      <td>77.0</td>\n      <td>right</td>\n      <td>medium</td>\n      <td>medium</td>\n      <td>25.0</td>\n      <td>...</td>\n      <td>25.0</td>\n      <td>25.0</td>\n      <td>25.0</td>\n      <td>25.0</td>\n      <td>25.0</td>\n      <td>77.0</td>\n      <td>72.0</td>\n      <td>76.0</td>\n      <td>77.0</td>\n      <td>80.0</td>\n    </tr>\n    <tr>\n      <th>110710</th>\n      <td>110711</td>\n      <td>180334</td>\n      <td>78908</td>\n      <td>2014-11-21 00:00:00</td>\n      <td>73.0</td>\n      <td>75.0</td>\n      <td>right</td>\n      <td>medium</td>\n      <td>medium</td>\n      <td>25.0</td>\n      <td>...</td>\n      <td>36.0</td>\n      <td>58.0</td>\n      <td>71.0</td>\n      <td>70.0</td>\n      <td>73.0</td>\n      <td>15.0</td>\n      <td>14.0</td>\n      <td>9.0</td>\n      <td>6.0</td>\n      <td>13.0</td>\n    </tr>\n    <tr>\n      <th>157517</th>\n      <td>157518</td>\n      <td>188075</td>\n      <td>128870</td>\n      <td>2009-08-30 00:00:00</td>\n      <td>69.0</td>\n      <td>76.0</td>\n      <td>right</td>\n      <td>medium</td>\n      <td>medium</td>\n      <td>60.0</td>\n      <td>...</td>\n      <td>70.0</td>\n      <td>59.0</td>\n      <td>71.0</td>\n      <td>70.0</td>\n      <td>77.0</td>\n      <td>5.0</td>\n      <td>22.0</td>\n      <td>64.0</td>\n      <td>22.0</td>\n      <td>22.0</td>\n    </tr>\n  </tbody>\n</table>\n<p>10 rows × 42 columns</p>\n</div>",
            "text/plain": "            id  player_fifa_api_id  player_api_id                 date  \\\n146691  146692              198212         181275  2010-08-30 00:00:00   \n171957  171958               53012          27313  2015-09-21 00:00:00   \n174456  174457              138507          37579  2011-02-22 00:00:00   \n158647  158648              198373         127134  2015-09-21 00:00:00   \n66096    66097              146475          38546  2011-08-30 00:00:00   \n97041    97042              201949         120110  2014-02-28 00:00:00   \n160515  160516              189077         121093  2008-08-30 00:00:00   \n55018    55019              182105         171981  2014-02-28 00:00:00   \n110710  110711              180334          78908  2014-11-21 00:00:00   \n157517  157518              188075         128870  2009-08-30 00:00:00   \n\n        overall_rating  potential preferred_foot attacking_work_rate  \\\n146691            52.0       68.0          right              medium   \n171957            68.0       68.0          right              medium   \n174456            75.0       80.0          right              medium   \n158647            61.0       68.0          right              medium   \n66096             65.0       65.0          right                 low   \n97041             69.0       70.0          right              medium   \n160515            52.0       57.0          right              medium   \n55018             77.0       77.0          right              medium   \n110710            73.0       75.0          right              medium   \n157517            69.0       76.0          right              medium   \n\n       defensive_work_rate  crossing     ...       vision  penalties  marking  \\\n146691              medium      56.0     ...         48.0       61.0     49.0   \n171957              medium      13.0     ...          9.0       31.0     13.0   \n174456              medium      11.0     ...         36.0       23.0     11.0   \n158647                high      52.0     ...         57.0       51.0     45.0   \n66096               medium      43.0     ...         69.0       54.0     51.0   \n97041               medium      52.0     ...         54.0       62.0     24.0   \n160515              medium      31.0     ...         36.0       36.0     47.0   \n55018               medium      25.0     ...         25.0       25.0     25.0   \n110710              medium      25.0     ...         36.0       58.0     71.0   \n157517              medium      60.0     ...         70.0       59.0     71.0   \n\n        standing_tackle  sliding_tackle  gk_diving  gk_handling  gk_kicking  \\\n146691             52.0            38.0       14.0          5.0         5.0   \n171957             16.0            15.0       55.0         72.0        53.0   \n174456             11.0            12.0       78.0         67.0        72.0   \n158647             51.0            43.0       14.0         15.0         9.0   \n66096              68.0            59.0       10.0         12.0         7.0   \n97041              23.0            20.0       12.0         10.0         7.0   \n160515             46.0            47.0        7.0         22.0        32.0   \n55018              25.0            25.0       77.0         72.0        76.0   \n110710             70.0            73.0       15.0         14.0         9.0   \n157517             70.0            77.0        5.0         22.0        64.0   \n\n        gk_positioning  gk_reflexes  \n146691             5.0         14.0  \n171957            73.0         75.0  \n174456            74.0         81.0  \n158647             6.0         10.0  \n66096             14.0          6.0  \n97041             11.0         13.0  \n160515            22.0         22.0  \n55018             77.0         80.0  \n110710             6.0         13.0  \n157517            22.0         22.0  \n\n[10 rows x 42 columns]"
          },
          "execution_count": 2,
          "metadata": {},
          "output_type": "execute_result"
        }
      ]
    },
    {
      "metadata": {
        "_cell_guid": "5512ad4c-891e-4c16-bb74-1801986fa94f",
        "_uuid": "d6edf6e7e04e239a3a93dd730a0aa00da3f52a7e"
      },
      "cell_type": "markdown",
      "source": "## Exploratory Data Analysis : Cleaning, Correcting and Visualizing "
    },
    {
      "metadata": {
        "_cell_guid": "3d3c0c78-13a6-4caa-a9e1-e0c71190acdd",
        "_uuid": "9b8eb28bca97f102f5d8eb6a47642484b90ab5c6",
        "collapsed": true,
        "trusted": true
      },
      "cell_type": "code",
      "source": "soccer_data.shape",
      "execution_count": null,
      "outputs": []
    },
    {
      "metadata": {
        "_cell_guid": "8d3848fb-8862-406b-b834-b65ce4601cda",
        "_uuid": "e32c89ef5b946694f4f1016e46e8790f6be06d34",
        "collapsed": true,
        "trusted": true
      },
      "cell_type": "code",
      "source": "soccer_data.columns ",
      "execution_count": null,
      "outputs": []
    },
    {
      "metadata": {
        "_cell_guid": "fff5b224-183d-483f-9e91-1d57baaa200a",
        "_uuid": "86fc9893d3cdbf5b074987f403e798d05036d37b",
        "collapsed": true,
        "trusted": true
      },
      "cell_type": "code",
      "source": "# lets look for null values \nsoccer_data.isnull().sum()",
      "execution_count": null,
      "outputs": []
    },
    {
      "metadata": {
        "_cell_guid": "948f6fc4-6f01-4751-9235-e381dbece6c7",
        "_uuid": "ec58ca6ebea849a01da01fc90ab1ddc0ce46804f",
        "collapsed": true,
        "trusted": true
      },
      "cell_type": "code",
      "source": "# which columns to keep ?  all except first four \nnew_soccer_data = soccer_data.copy()\nnew_soccer_data = new_soccer_data.drop([\"id\", \"player_fifa_api_id\", \"player_api_id\", \"date\"], axis = 1)\nnew_soccer_data.head()",
      "execution_count": null,
      "outputs": []
    },
    {
      "metadata": {
        "_cell_guid": "c7e4805e-121d-43c0-a949-f079b3d7b72a",
        "_uuid": "e6f216445616c626e812e7a5090e93abf8749c5c"
      },
      "cell_type": "markdown",
      "source": "### 1. Initial Exploration"
    },
    {
      "metadata": {
        "_cell_guid": "2c3cc7b1-dbe9-4fc6-b215-5b640c72cebd",
        "_uuid": "c2b4d7d68aa8d15213d0af1c0cd047d100222b78",
        "collapsed": true,
        "trusted": true
      },
      "cell_type": "code",
      "source": "new_soccer_data.duplicated().any()",
      "execution_count": null,
      "outputs": []
    },
    {
      "metadata": {
        "_cell_guid": "221f72dc-7c45-43ab-aa92-d0947fcc7ac9",
        "_uuid": "8229b5d0d8dbb774cf77ee24ea0276d70117b264",
        "collapsed": true,
        "trusted": true
      },
      "cell_type": "code",
      "source": "# removing the duplicates   \nnew_soccer_data = new_soccer_data.drop_duplicates()\nnew_soccer_data.shape",
      "execution_count": null,
      "outputs": []
    },
    {
      "metadata": {
        "_cell_guid": "c3683edb-d766-4c45-95bc-a66d541e5583",
        "_uuid": "a9e557f076d0baa9fbb1f60a8da3645ee1faeabd",
        "collapsed": true,
        "trusted": true
      },
      "cell_type": "code",
      "source": "new_soccer_data.info()",
      "execution_count": null,
      "outputs": []
    },
    {
      "metadata": {
        "_cell_guid": "2b551b6c-35e9-483e-b57f-da4bc539c13f",
        "_uuid": "5e2ba3c2dff87ad426c3f58d10e6cf5cf21f501d",
        "collapsed": true,
        "trusted": true
      },
      "cell_type": "code",
      "source": "new_soccer_data.describe()",
      "execution_count": null,
      "outputs": []
    },
    {
      "metadata": {
        "_cell_guid": "5296c928-9391-41f7-9247-67fcc7781ea7",
        "_uuid": "cf064f673a6608ecdb32a361ee932729f8113ff1"
      },
      "cell_type": "markdown",
      "source": "### 2. Correcting "
    },
    {
      "metadata": {
        "_cell_guid": "29f79103-065e-4fe9-bc1a-8cfb88cb78d2",
        "_uuid": "6a50d3bbcb3181eb9ad48ea0a572c5928554d2da",
        "collapsed": true,
        "trusted": true
      },
      "cell_type": "code",
      "source": "new_soccer_data.isnull().sum()",
      "execution_count": null,
      "outputs": []
    },
    {
      "metadata": {
        "_cell_guid": "40339055-5354-4639-9bf2-efe4d6a30088",
        "_uuid": "ebb785dc92f87c1457388db7303a0fc114b9722f",
        "collapsed": true,
        "trusted": true
      },
      "cell_type": "code",
      "source": "new_soccer_data['preferred_foot'].value_counts()",
      "execution_count": null,
      "outputs": []
    },
    {
      "metadata": {
        "_cell_guid": "889c5d5b-3694-4e4e-a331-087d18e3b71b",
        "_uuid": "205372e08f733e78caca185e8d1ca67db54d5788",
        "collapsed": true,
        "trusted": true
      },
      "cell_type": "code",
      "source": "new_soccer_data['preferred_foot'] = new_soccer_data['preferred_foot'].map({'right': 0, 'left': 1})",
      "execution_count": null,
      "outputs": []
    },
    {
      "metadata": {
        "_cell_guid": "b8448dbd-f2b6-4e58-9563-17d8f50708a6",
        "_uuid": "592be3062e06eb94ca633eb65b7b9d70f7da46d9",
        "collapsed": true,
        "trusted": true
      },
      "cell_type": "code",
      "source": "new_soccer_data['attacking_work_rate'].value_counts()",
      "execution_count": null,
      "outputs": []
    },
    {
      "metadata": {
        "_cell_guid": "b2f7832c-e458-4f66-b65e-003ee7efeba3",
        "_uuid": "130ddea53e64a2ec8ba365f6eed2798565a03f00",
        "collapsed": true,
        "trusted": true
      },
      "cell_type": "code",
      "source": "new_soccer_data.replace(to_replace = ['None', 'y', 'le', 'stoc', 'norm'],value = 'medium', inplace = True)\nnew_soccer_data['attacking_work_rate'].value_counts()",
      "execution_count": null,
      "outputs": []
    },
    {
      "metadata": {
        "_cell_guid": "8a467136-ee7d-43eb-a146-25061dac2673",
        "_uuid": "489d8da97df0daf70c565b7227775c12e9b81095",
        "collapsed": true,
        "trusted": true
      },
      "cell_type": "code",
      "source": "new_soccer_data['attacking_work_rate'] = new_soccer_data['attacking_work_rate'].map({'medium': 1, 'low': 0, 'high' : 2})",
      "execution_count": null,
      "outputs": []
    },
    {
      "metadata": {
        "_cell_guid": "220ca856-fdff-43b8-8cea-ef9397d3670c",
        "_uuid": "6fe03a54ff91b2c96538ea0fe66e0ca80cad28f8",
        "collapsed": true,
        "trusted": true
      },
      "cell_type": "code",
      "source": "new_soccer_data['defensive_work_rate'].value_counts()",
      "execution_count": null,
      "outputs": []
    },
    {
      "metadata": {
        "_cell_guid": "082410e3-9473-42a2-abd1-af0fae788e4a",
        "_uuid": "14e3200d4f6f35cad8b83c2b5e9727e526e363bc",
        "collapsed": true,
        "trusted": true
      },
      "cell_type": "code",
      "source": "new_soccer_data.replace(['_0', 'o', '1', 'ormal', '2', '3', '7', '5', '6', '0', '9', 'es', '4', 'ean', 'tocky', '8'], 'medium', inplace = True)",
      "execution_count": null,
      "outputs": []
    },
    {
      "metadata": {
        "_cell_guid": "41d8c192-42ca-48eb-a65a-bb93141a4b60",
        "_uuid": "da6c8b19d6e16170618859ae5d9fc83cc41b67ad",
        "collapsed": true,
        "trusted": true
      },
      "cell_type": "code",
      "source": "new_soccer_data['defensive_work_rate'] = new_soccer_data['defensive_work_rate'].map({'medium': 1, 'low': 0, 'high' : 2})",
      "execution_count": null,
      "outputs": []
    },
    {
      "metadata": {
        "_cell_guid": "adbb3893-d544-4900-93dc-cc7080ff2338",
        "_uuid": "063f4c89d357513924cff239e505fb79d9724c15",
        "collapsed": true,
        "trusted": true
      },
      "cell_type": "code",
      "source": "new_soccer_data.fillna(new_soccer_data.mean(), inplace = True)\nnew_soccer_data.isnull().any()",
      "execution_count": null,
      "outputs": []
    },
    {
      "metadata": {
        "_cell_guid": "76d64d82-90da-4378-beb1-30d7c5a9b2e1",
        "_uuid": "39b705daec64f17d17402cfa68342fb5c79251a6"
      },
      "cell_type": "markdown",
      "source": "### 3. Visualize the data"
    },
    {
      "metadata": {
        "_cell_guid": "694f5732-9d69-46a9-893d-90f7612fdf6d",
        "_uuid": "b1b61b739946a1a2be83e8cb7639ac1e3a857b17",
        "collapsed": true,
        "trusted": true
      },
      "cell_type": "code",
      "source": "sns.set()",
      "execution_count": null,
      "outputs": []
    },
    {
      "metadata": {
        "_cell_guid": "8b3061e9-4788-4b2a-96fe-5cfe241da1ab",
        "_uuid": "d78c853abed9a4ffec79b20ccbd83ac66a88d1cb",
        "collapsed": true,
        "trusted": true
      },
      "cell_type": "code",
      "source": "fig, axes = plt.subplots(len(new_soccer_data.columns)//3, 3, figsize=(12, 48))\n\ni = 0\nfor triaxis in axes:\n    for axis in triaxis:\n        new_soccer_data.hist(column = new_soccer_data.columns[i], bins = 100, ax=axis)\n        i = i+1 \nplt.show()",
      "execution_count": null,
      "outputs": []
    },
    {
      "metadata": {
        "_cell_guid": "0fdb5971-d2b0-4b24-b7c0-43367af9335a",
        "_uuid": "3ab96aa562785b847b1787443213533079b8c77a",
        "collapsed": true,
        "trusted": true
      },
      "cell_type": "code",
      "source": "fig, axes = plt.subplots(len(new_soccer_data.columns)//3, 3, figsize=(12, 48))\n\ni = 0\nfor triaxis in axes:\n    for axis in triaxis:\n        new_soccer_data.boxplot(column = new_soccer_data.columns[i], ax=axis)\n        i = i+1 \nplt.show()",
      "execution_count": null,
      "outputs": []
    },
    {
      "metadata": {
        "_cell_guid": "e34ec19e-6e0b-4c8c-b1c4-05acd14e95e4",
        "_uuid": "4b84d40fff4aff8b88d5c0f73ef128bd78d54287"
      },
      "cell_type": "markdown",
      "source": "## Feature Selection and Model Selection"
    },
    {
      "metadata": {
        "_cell_guid": "bc3139c7-a22f-49d1-8a25-059257aa556d",
        "_uuid": "7c8c40f0e6ab9ae7e520d4329db3e989196603cf",
        "collapsed": true,
        "trusted": true
      },
      "cell_type": "code",
      "source": "columns = ['potential', 'preferred_foot', 'attacking_work_rate',\n       'defensive_work_rate', 'crossing', 'finishing', 'heading_accuracy',\n       'short_passing', 'volleys', 'dribbling', 'curve', 'free_kick_accuracy',\n       'long_passing', 'ball_control', 'acceleration', 'sprint_speed',\n       'agility', 'reactions', 'balance', 'shot_power', 'jumping', 'stamina',\n       'strength', 'long_shots', 'aggression', 'interceptions', 'positioning',\n       'vision', 'penalties', 'marking', 'standing_tackle', 'sliding_tackle',\n       'gk_diving', 'gk_handling', 'gk_kicking', 'gk_positioning',\n       'gk_reflexes']\nX = new_soccer_data[columns]\ny = new_soccer_data['overall_rating']\nfrom sklearn.preprocessing import StandardScaler\nX_std = StandardScaler().fit_transform(X)",
      "execution_count": null,
      "outputs": []
    },
    {
      "metadata": {
        "_cell_guid": "beefbf5a-9540-4739-9d6c-9645614058c8",
        "_uuid": "6edeb4d4078e6f10850e3c4a961ab63dbb91b7ec",
        "collapsed": true,
        "trusted": true
      },
      "cell_type": "code",
      "source": "from sklearn.decomposition import PCA\npca = PCA(n_components = 30)\nfit = pca.fit(X_std)\nX_new = pca.fit_transform(X_std)",
      "execution_count": null,
      "outputs": []
    },
    {
      "metadata": {
        "_cell_guid": "552772b7-8b92-405e-b51e-17a140569a4c",
        "_uuid": "18c5a5dd8f70162af9de624e7976b45eed83cf4e",
        "collapsed": true,
        "trusted": true
      },
      "cell_type": "code",
      "source": "fit.explained_variance_.sum()",
      "execution_count": null,
      "outputs": []
    },
    {
      "metadata": {
        "_cell_guid": "68c8a09a-d848-458a-bfc5-8664e4f3f3bd",
        "_uuid": "db26b912a59b2b315ddfc1c874cc873f28690fa9",
        "collapsed": true,
        "trusted": true
      },
      "cell_type": "code",
      "source": "lnr = LinearRegression()\nprint(cross_val_score(lnr, X_new, y,cv = 5).mean()) ",
      "execution_count": null,
      "outputs": []
    },
    {
      "metadata": {
        "_cell_guid": "9f320b67-3b39-43d7-af4a-3fe75a755ebd",
        "_uuid": "55c229045155cedd9826039b92c384a93f27d0af",
        "collapsed": true,
        "trusted": true
      },
      "cell_type": "code",
      "source": "rgs = DecisionTreeRegressor()\nprint(cross_val_score(rgs, X_new, y, cv = 5).mean())",
      "execution_count": null,
      "outputs": []
    },
    {
      "metadata": {
        "_cell_guid": "6fa455d8-f9c0-4db1-a1f1-35f514917d15",
        "_uuid": "c9cdc637804509db686b789ce62d529897cdb3df",
        "collapsed": true,
        "trusted": true
      },
      "cell_type": "code",
      "source": "rfr = RandomForestRegressor(10)\nprint(cross_val_score(rfr, X_new, y, cv = 5).mean())",
      "execution_count": null,
      "outputs": []
    },
    {
      "metadata": {
        "_cell_guid": "27f19f09-ca04-416e-a4f6-e9f1a67bba67",
        "_uuid": "d4fc7dc1868e564204ef1349e4a011292538b687",
        "collapsed": true,
        "trusted": true
      },
      "cell_type": "code",
      "source": "from sklearn.neural_network import MLPRegressor\nmlpr = MLPRegressor((50,), 'relu')\nprint(cross_val_score(mlpr, X_new, y, cv = 5).mean())",
      "execution_count": null,
      "outputs": []
    },
    {
      "metadata": {
        "_cell_guid": "e760cab8-9f4d-4250-9585-a81e2db725a5",
        "_uuid": "e007bb2554ffd46b3cc5d07c7c834a9cffa1455c",
        "collapsed": true,
        "trusted": true
      },
      "cell_type": "code",
      "source": "print(\"Finally we can predict the Player's overall rating with over 95% accuracy\")",
      "execution_count": null,
      "outputs": []
    }
  ],
  "metadata": {
    "kernelspec": {
      "display_name": "Python 3",
      "language": "python",
      "name": "python3"
    },
    "language_info": {
      "codemirror_mode": {
        "name": "ipython",
        "version": 3
      },
      "file_extension": ".py",
      "mimetype": "text/x-python",
      "name": "python",
      "nbconvert_exporter": "python",
      "pygments_lexer": "ipython3",
      "version": "3.6.4"
    }
  },
  "nbformat": 4,
  "nbformat_minor": 1
}